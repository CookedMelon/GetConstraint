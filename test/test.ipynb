{
 "cells": [
  {
   "cell_type": "code",
   "execution_count": 1,
   "metadata": {},
   "outputs": [
    {
     "name": "stderr",
     "output_type": "stream",
     "text": [
      "2023-09-14 23:40:55.025664: I tensorflow/tsl/cuda/cudart_stub.cc:28] Could not find cuda drivers on your machine, GPU will not be used.\n",
      "2023-09-14 23:40:55.049864: I tensorflow/tsl/cuda/cudart_stub.cc:28] Could not find cuda drivers on your machine, GPU will not be used.\n",
      "2023-09-14 23:40:55.050470: I tensorflow/core/platform/cpu_feature_guard.cc:182] This TensorFlow binary is optimized to use available CPU instructions in performance-critical operations.\n",
      "To enable the following instructions: AVX2 FMA, in other operations, rebuild TensorFlow with the appropriate compiler flags.\n",
      "2023-09-14 23:40:55.599226: W tensorflow/compiler/tf2tensorrt/utils/py_utils.cc:38] TF-TRT Warning: Could not find TensorRT\n"
     ]
    }
   ],
   "source": [
    "import tensorflow as tf\n",
    "import numpy as np"
   ]
  },
  {
   "cell_type": "markdown",
   "metadata": {},
   "source": [
    "## tf.dtypes.saturate_cast\n",
    "将张量进行类型转换"
   ]
  },
  {
   "cell_type": "code",
   "execution_count": null,
   "metadata": {},
   "outputs": [],
   "source": [
    "# input_value=tf.constant([1.5, 2.5, 3.5, 256.5], dtype=tf.float32)\n",
    "# input_dtype=tf.uint16\n",
    "# tf.dtypes.saturate_cast(\n",
    "#     value=input_value, dtype=input_dtype, name=None\n",
    "# )\n",
    "input_value=tf.constant([[2.5,6.8],[2.6,1.9]], dtype=tf.float32)\n",
    "input_dtype=tf.uint16\n",
    "tf.dtypes.saturate_cast(\n",
    "    value=input_value, dtype=input_dtype, name=None\n",
    ")"
   ]
  },
  {
   "cell_type": "markdown",
   "metadata": {},
   "source": [
    "## tf.nn.erosion2d"
   ]
  },
  {
   "cell_type": "code",
   "execution_count": 12,
   "metadata": {},
   "outputs": [
    {
     "name": "stdout",
     "output_type": "stream",
     "text": [
      "Erosion Output:\n",
      "(1, 3, 3, 1)\n"
     ]
    }
   ],
   "source": [
    "\n",
    "# Create a dummy 4D tensor to simulate a batch of grayscale images.\n",
    "# Shape: [batch, in_height, in_width, depth] = [1, 5, 5, 1]\n",
    "value = tf.constant([\n",
    "    [[0, 0, 0, 0, 0],\n",
    "     [0, 1, 1, 1, 0],\n",
    "     [0, 1, 1, 1, 0],\n",
    "     [0, 1, 1, 1, 0],\n",
    "     [0, 0, 0, 0, 0]]\n",
    "], dtype=tf.float32)\n",
    "value = tf.reshape(value, [1, 5, 5, 1])\n",
    "\n",
    "# Create a dummy 3D tensor to simulate the erosion filter.\n",
    "# Shape: [filters_height, filters_width, depth] = [3, 3, 1]\n",
    "filters = tf.constant([\n",
    "    [1, 1, 1],\n",
    "    [1, 1, 1],\n",
    "    [1, 1, 1]\n",
    "], dtype=tf.float32)\n",
    "filters = tf.reshape(filters, [3, 3, 1])\n",
    "\n",
    "# Define strides and dilations\n",
    "strides = [1, 1, 1, 1]\n",
    "dilations = [1, 1, 1, 1]\n",
    "\n",
    "# Perform 2D erosion\n",
    "output = tf.nn.erosion2d(\n",
    "    value=value,\n",
    "    filters=filters,\n",
    "    strides=strides,\n",
    "    padding=\"VALID\",\n",
    "    data_format=\"NHWC\",\n",
    "    dilations=dilations,\n",
    "    name=\"erosion2d\"\n",
    ")\n",
    "\n",
    "# Convert output tensor to numpy array and print\n",
    "output_array = output.numpy()\n",
    "print(\"Erosion Output:\")\n",
    "print(output_array.shape)\n"
   ]
  },
  {
   "cell_type": "markdown",
   "metadata": {},
   "source": [
    "## tf.math.divide"
   ]
  },
  {
   "cell_type": "code",
   "execution_count": 24,
   "metadata": {},
   "outputs": [
    {
     "name": "stdout",
     "output_type": "stream",
     "text": [
      "tf.Tensor([4.  2.  2.5], shape=(3,), dtype=float64)\n"
     ]
    }
   ],
   "source": [
    "x = tf.constant([16, 12, 5])\n",
    "y = tf.constant([4, 6, 2])\n",
    "ans=tf.divide(x,y)\n",
    "print(ans)\n"
   ]
  },
  {
   "cell_type": "markdown",
   "metadata": {},
   "source": [
    "## tf.nn.max_pool"
   ]
  },
  {
   "cell_type": "code",
   "execution_count": 41,
   "metadata": {},
   "outputs": [
    {
     "name": "stdout",
     "output_type": "stream",
     "text": [
      "input (1, 4, 4, 1) 4\n"
     ]
    },
    {
     "data": {
      "text/plain": [
       "TensorShape([1, 2, 2, 1])"
      ]
     },
     "execution_count": 41,
     "metadata": {},
     "output_type": "execute_result"
    }
   ],
   "source": [
    "matrix = tf.constant([\n",
    "    [0, 0, 1, 7],\n",
    "    [0, 2, 0, 0],\n",
    "    [5, 2, 0, 0],\n",
    "    [0, 0, 9, 8],\n",
    "])\n",
    "reshaped = tf.reshape(matrix, (1, 4, 4, 1))\n",
    "print('input',reshaped.shape,tf.rank(reshaped).numpy())\n",
    "tf.nn.max_pool(reshaped, ksize=2, strides=2, padding=\"SAME\").shape\n",
    "\n",
    "\n"
   ]
  },
  {
   "cell_type": "code",
   "execution_count": 57,
   "metadata": {},
   "outputs": [
    {
     "name": "stdout",
     "output_type": "stream",
     "text": [
      "input_tensor (1, 2, 2, 4, 1)\n",
      "[]\n"
     ]
    }
   ],
   "source": [
    "input_tensor = tf.constant([[\n",
    "    [[1.0], [2.0], [3.0], [4.0]],\n",
    "    [[5.0], [6.0], [7.0], [8.0]],\n",
    "    [[9.0], [10.0], [11.0], [12.0]],\n",
    "    [[13.0], [14.0], [15.0], [16.0]]\n",
    "]], dtype=tf.float32)\n",
    "input_tensor=tf.reshape(input_tensor,(1,2,2,4,1))\n",
    "print('input_tensor',input_tensor.shape)\n",
    "# ksize: The size of the window for each dimension of the input tensor.\n",
    "# Here, we use a 2x2 window\n",
    "ksize =3\n",
    "\n",
    "# strides: The stride of the sliding window for each dimension of the input tensor.\n",
    "# Here, we move the window 2 steps for height and width\n",
    "strides =3\n",
    "\n",
    "# padding: Type of padding algorithm to use (\"SAME\" or \"VALID\")\n",
    "padding = \"VALID\"\n",
    "\n",
    "# data_format: Specifies the channel dimension (\"NHWC\" or \"NCHW\")\n",
    "data_format = \"NDHWC\"\n",
    "# Perform max pooling using tf.nn.max_pool\n",
    "output_tensor = tf.nn.max_pool(\n",
    "    input=input_tensor,\n",
    "    ksize=ksize,\n",
    "    strides=strides,\n",
    "    padding=padding,\n",
    "    data_format=data_format\n",
    ")\n",
    "\n",
    "# Print the output tensor\n",
    "print(output_tensor.numpy())"
   ]
  },
  {
   "cell_type": "markdown",
   "metadata": {},
   "source": [
    "## tf.nn.softmax"
   ]
  },
  {
   "cell_type": "code",
   "execution_count": null,
   "metadata": {},
   "outputs": [],
   "source": []
  },
  {
   "cell_type": "code",
   "execution_count": 59,
   "metadata": {},
   "outputs": [
    {
     "data": {
      "text/plain": [
       "<tf.Tensor: shape=(3,), dtype=float32, numpy=array([0.09003057, 0.24472848, 0.66524094], dtype=float32)>"
      ]
     },
     "execution_count": 59,
     "metadata": {},
     "output_type": "execute_result"
    }
   ],
   "source": [
    "softmax = tf.nn.softmax([-1, 0., 1.])\n",
    "softmax"
   ]
  },
  {
   "cell_type": "markdown",
   "metadata": {},
   "source": [
    "## "
   ]
  },
  {
   "cell_type": "code",
   "execution_count": 5,
   "metadata": {},
   "outputs": [
    {
     "ename": "TypeError",
     "evalue": "Expected string for argument 'padding' not <tf.Variable 'Variable:0' shape=() dtype=string, numpy=b'VAILD'>.",
     "output_type": "error",
     "traceback": [
      "\u001b[0;31m---------------------------------------------------------------------------\u001b[0m",
      "\u001b[0;31mTypeError\u001b[0m                                 Traceback (most recent call last)",
      "\u001b[1;32m/home/cc/Workspace/tfconstraint/test/test.ipynb 单元格 15\u001b[0m line \u001b[0;36m2\n\u001b[1;32m     <a href='vscode-notebook-cell://ssh-remote%2Bmylinux/home/cc/Workspace/tfconstraint/test/test.ipynb#X20sdnNjb2RlLXJlbW90ZQ%3D%3D?line=19'>20</a>\u001b[0m dilations \u001b[39m=\u001b[39m [\u001b[39m1\u001b[39m, \u001b[39m1\u001b[39m]  \u001b[39m# Dilation rate\u001b[39;00m\n\u001b[1;32m     <a href='vscode-notebook-cell://ssh-remote%2Bmylinux/home/cc/Workspace/tfconstraint/test/test.ipynb#X20sdnNjb2RlLXJlbW90ZQ%3D%3D?line=21'>22</a>\u001b[0m \u001b[39m# Apply the pooling operation\u001b[39;00m\n\u001b[0;32m---> <a href='vscode-notebook-cell://ssh-remote%2Bmylinux/home/cc/Workspace/tfconstraint/test/test.ipynb#X20sdnNjb2RlLXJlbW90ZQ%3D%3D?line=22'>23</a>\u001b[0m output_tensor \u001b[39m=\u001b[39m tf\u001b[39m.\u001b[39;49mnn\u001b[39m.\u001b[39;49mpool(\n\u001b[1;32m     <a href='vscode-notebook-cell://ssh-remote%2Bmylinux/home/cc/Workspace/tfconstraint/test/test.ipynb#X20sdnNjb2RlLXJlbW90ZQ%3D%3D?line=23'>24</a>\u001b[0m     \u001b[39minput\u001b[39;49m\u001b[39m=\u001b[39;49minput_tensor,\n\u001b[1;32m     <a href='vscode-notebook-cell://ssh-remote%2Bmylinux/home/cc/Workspace/tfconstraint/test/test.ipynb#X20sdnNjb2RlLXJlbW90ZQ%3D%3D?line=24'>25</a>\u001b[0m     window_shape\u001b[39m=\u001b[39;49mwindow_shape,\n\u001b[1;32m     <a href='vscode-notebook-cell://ssh-remote%2Bmylinux/home/cc/Workspace/tfconstraint/test/test.ipynb#X20sdnNjb2RlLXJlbW90ZQ%3D%3D?line=25'>26</a>\u001b[0m     pooling_type\u001b[39m=\u001b[39;49mpooling_type,\n\u001b[1;32m     <a href='vscode-notebook-cell://ssh-remote%2Bmylinux/home/cc/Workspace/tfconstraint/test/test.ipynb#X20sdnNjb2RlLXJlbW90ZQ%3D%3D?line=26'>27</a>\u001b[0m     strides\u001b[39m=\u001b[39;49mstrides,\n\u001b[1;32m     <a href='vscode-notebook-cell://ssh-remote%2Bmylinux/home/cc/Workspace/tfconstraint/test/test.ipynb#X20sdnNjb2RlLXJlbW90ZQ%3D%3D?line=27'>28</a>\u001b[0m     padding\u001b[39m=\u001b[39;49mpadding,\n\u001b[1;32m     <a href='vscode-notebook-cell://ssh-remote%2Bmylinux/home/cc/Workspace/tfconstraint/test/test.ipynb#X20sdnNjb2RlLXJlbW90ZQ%3D%3D?line=28'>29</a>\u001b[0m     data_format\u001b[39m=\u001b[39;49mdata_format,\n\u001b[1;32m     <a href='vscode-notebook-cell://ssh-remote%2Bmylinux/home/cc/Workspace/tfconstraint/test/test.ipynb#X20sdnNjb2RlLXJlbW90ZQ%3D%3D?line=29'>30</a>\u001b[0m     dilations\u001b[39m=\u001b[39;49mdilations,\n\u001b[1;32m     <a href='vscode-notebook-cell://ssh-remote%2Bmylinux/home/cc/Workspace/tfconstraint/test/test.ipynb#X20sdnNjb2RlLXJlbW90ZQ%3D%3D?line=30'>31</a>\u001b[0m     name\u001b[39m=\u001b[39;49m\u001b[39m\"\u001b[39;49m\u001b[39mmy_pooling_op\u001b[39;49m\u001b[39m\"\u001b[39;49m\n\u001b[1;32m     <a href='vscode-notebook-cell://ssh-remote%2Bmylinux/home/cc/Workspace/tfconstraint/test/test.ipynb#X20sdnNjb2RlLXJlbW90ZQ%3D%3D?line=31'>32</a>\u001b[0m )\n\u001b[1;32m     <a href='vscode-notebook-cell://ssh-remote%2Bmylinux/home/cc/Workspace/tfconstraint/test/test.ipynb#X20sdnNjb2RlLXJlbW90ZQ%3D%3D?line=33'>34</a>\u001b[0m \u001b[39mprint\u001b[39m(\u001b[39m\"\u001b[39m\u001b[39mInput tensor:\u001b[39m\u001b[39m\"\u001b[39m)\n\u001b[1;32m     <a href='vscode-notebook-cell://ssh-remote%2Bmylinux/home/cc/Workspace/tfconstraint/test/test.ipynb#X20sdnNjb2RlLXJlbW90ZQ%3D%3D?line=34'>35</a>\u001b[0m \u001b[39mprint\u001b[39m(input_tensor\u001b[39m.\u001b[39mnumpy())\n",
      "File \u001b[0;32m~/anaconda3/lib/python3.10/site-packages/tensorflow/python/util/traceback_utils.py:153\u001b[0m, in \u001b[0;36mfilter_traceback.<locals>.error_handler\u001b[0;34m(*args, **kwargs)\u001b[0m\n\u001b[1;32m    151\u001b[0m \u001b[39mexcept\u001b[39;00m \u001b[39mException\u001b[39;00m \u001b[39mas\u001b[39;00m e:\n\u001b[1;32m    152\u001b[0m   filtered_tb \u001b[39m=\u001b[39m _process_traceback_frames(e\u001b[39m.\u001b[39m__traceback__)\n\u001b[0;32m--> 153\u001b[0m   \u001b[39mraise\u001b[39;00m e\u001b[39m.\u001b[39mwith_traceback(filtered_tb) \u001b[39mfrom\u001b[39;00m \u001b[39mNone\u001b[39m\n\u001b[1;32m    154\u001b[0m \u001b[39mfinally\u001b[39;00m:\n\u001b[1;32m    155\u001b[0m   \u001b[39mdel\u001b[39;00m filtered_tb\n",
      "File \u001b[0;32m~/anaconda3/lib/python3.10/site-packages/tensorflow/python/eager/execute.py:165\u001b[0m, in \u001b[0;36mmake_str\u001b[0;34m(v, arg_name)\u001b[0m\n\u001b[1;32m    163\u001b[0m \u001b[39mdef\u001b[39;00m \u001b[39mmake_str\u001b[39m(v, arg_name):\n\u001b[1;32m    164\u001b[0m   \u001b[39mif\u001b[39;00m \u001b[39mnot\u001b[39;00m \u001b[39misinstance\u001b[39m(v, compat\u001b[39m.\u001b[39mbytes_or_text_types):\n\u001b[0;32m--> 165\u001b[0m     \u001b[39mraise\u001b[39;00m \u001b[39mTypeError\u001b[39;00m(\u001b[39m\"\u001b[39m\u001b[39mExpected string for argument \u001b[39m\u001b[39m'\u001b[39m\u001b[39m%s\u001b[39;00m\u001b[39m'\u001b[39m\u001b[39m not \u001b[39m\u001b[39m%s\u001b[39;00m\u001b[39m.\u001b[39m\u001b[39m\"\u001b[39m \u001b[39m%\u001b[39m\n\u001b[1;32m    166\u001b[0m                     (arg_name, \u001b[39mrepr\u001b[39m(v)))\n\u001b[1;32m    167\u001b[0m   \u001b[39mreturn\u001b[39;00m compat\u001b[39m.\u001b[39mas_bytes(v)\n",
      "\u001b[0;31mTypeError\u001b[0m: Expected string for argument 'padding' not <tf.Variable 'Variable:0' shape=() dtype=string, numpy=b'VAILD'>."
     ]
    }
   ],
   "source": [
    "\n",
    "# Create a random 4D tensor of shape [batch_size, height, width, channels]\n",
    "# Here, batch_size = 1, height = 4, width = 4, channels = 1\n",
    "input_tensor = tf.constant([\n",
    "    [\n",
    "        [[1.0], [2.0], [3.0], [4.0]],\n",
    "        [[5.0], [6.0], [7.0], [8.0]],\n",
    "        [[9.0], [10.0], [11.0], [12.0]],\n",
    "        [[13.0], [14.0], [15.0], [16.0]]\n",
    "    ]\n",
    "], dtype=tf.float32)\n",
    "\n",
    "# Define the window_shape, pooling_type, and other parameters\n",
    "window_shape = [2, 2]  # Pooling window size\n",
    "pooling_type = \"MAX\"  # Pooling type can be \"AVG\" or \"MAX\"\n",
    "\n",
    "strides = [2, 2]  # Strides for the pooling operation\n",
    "# padding = \"VALID\"  # Padding can be \"SAME\" or \"VALID\"\n",
    "padding = tf.Variable(\"VAILD\",dtype=tf.string)\n",
    "data_format = \"NHWC\"  # Data format can be \"NHWC\" or \"NCHW\"\n",
    "dilations = [1, 1]  # Dilation rate\n",
    "\n",
    "# Apply the pooling operation\n",
    "output_tensor = tf.nn.pool(\n",
    "    input=input_tensor,\n",
    "    window_shape=window_shape,\n",
    "    pooling_type=pooling_type,\n",
    "    strides=strides,\n",
    "    padding=padding,\n",
    "    data_format=data_format,\n",
    "    dilations=dilations,\n",
    "    name=\"my_pooling_op\"\n",
    ")\n",
    "\n",
    "print(\"Input tensor:\")\n",
    "print(input_tensor.numpy())\n",
    "print(\"\\nOutput tensor:\")\n",
    "print(output_tensor.numpy())\n"
   ]
  }
 ],
 "metadata": {
  "kernelspec": {
   "display_name": "base",
   "language": "python",
   "name": "python3"
  },
  "language_info": {
   "codemirror_mode": {
    "name": "ipython",
    "version": 3
   },
   "file_extension": ".py",
   "mimetype": "text/x-python",
   "name": "python",
   "nbconvert_exporter": "python",
   "pygments_lexer": "ipython3",
   "version": "3.10.9"
  },
  "orig_nbformat": 4
 },
 "nbformat": 4,
 "nbformat_minor": 2
}
