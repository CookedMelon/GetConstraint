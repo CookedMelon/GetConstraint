{
 "cells": [
  {
   "cell_type": "code",
   "execution_count": null,
   "metadata": {},
   "outputs": [],
   "source": [
    "import tensorflow as tf\n",
    "import numpy as np"
   ]
  },
  {
   "cell_type": "markdown",
   "metadata": {},
   "source": [
    "## tf.dtypes.saturate_cast\n",
    "将张量进行类型转换"
   ]
  },
  {
   "cell_type": "code",
   "execution_count": null,
   "metadata": {},
   "outputs": [],
   "source": [
    "# input_value=tf.constant([1.5, 2.5, 3.5, 256.5], dtype=tf.float32)\n",
    "# input_dtype=tf.uint16\n",
    "# tf.dtypes.saturate_cast(\n",
    "#     value=input_value, dtype=input_dtype, name=None\n",
    "# )\n",
    "input_value=tf.constant([[2.5,6.8],[2.6,1.9]], dtype=tf.float32)\n",
    "input_dtype=tf.uint16\n",
    "tf.dtypes.saturate_cast(\n",
    "    value=input_value, dtype=input_dtype, name=None\n",
    ")"
   ]
  },
  {
   "cell_type": "markdown",
   "metadata": {},
   "source": [
    "## tf.nn.erosion2d"
   ]
  },
  {
   "cell_type": "code",
   "execution_count": null,
   "metadata": {},
   "outputs": [],
   "source": [
    "\n",
    "# Create a dummy 4D tensor to simulate a batch of grayscale images.\n",
    "# Shape: [batch, in_height, in_width, depth] = [1, 5, 5, 1]\n",
    "value = tf.constant([\n",
    "    [[0, 0, 0, 0, 0],\n",
    "     [0, 1, 1, 1, 0],\n",
    "     [0, 1, 1, 1, 0],\n",
    "     [0, 1, 1, 1, 0],\n",
    "     [0, 0, 0, 0, 0]]\n",
    "], dtype=tf.float32)\n",
    "value = tf.reshape(value, [1, 5, 5, 1])\n",
    "\n",
    "# Create a dummy 3D tensor to simulate the erosion filter.\n",
    "# Shape: [filters_height, filters_width, depth] = [3, 3, 1]\n",
    "filters = tf.constant([\n",
    "    [1, 1, 1],\n",
    "    [1, 1, 1],\n",
    "    [1, 1, 1]\n",
    "], dtype=tf.float32)\n",
    "filters = tf.reshape(filters, [3, 3, 1])\n",
    "\n",
    "# Define strides and dilations\n",
    "strides = [1, 1, 1, 1]\n",
    "dilations = [1, 1, 1, 1]\n",
    "\n",
    "# Perform 2D erosion\n",
    "output = tf.nn.erosion2d(\n",
    "    value=value,\n",
    "    filters=filters,\n",
    "    strides=strides,\n",
    "    padding=\"VALID\",\n",
    "    data_format=\"NHWC\",\n",
    "    dilations=dilations,\n",
    "    name=\"erosion2d\"\n",
    ")\n",
    "\n",
    "# Convert output tensor to numpy array and print\n",
    "output_array = output.numpy()\n",
    "print(\"Erosion Output:\")\n",
    "print(output_array.shape)\n"
   ]
  },
  {
   "cell_type": "markdown",
   "metadata": {},
   "source": [
    "## tf.math.divide"
   ]
  },
  {
   "cell_type": "code",
   "execution_count": null,
   "metadata": {},
   "outputs": [],
   "source": [
    "x = tf.constant([16, 12, 5])\n",
    "y = tf.constant([4, 6, 2])\n",
    "ans=tf.divide(x,y)\n",
    "print(ans)\n"
   ]
  },
  {
   "cell_type": "markdown",
   "metadata": {},
   "source": [
    "## tf.nn.max_pool"
   ]
  },
  {
   "cell_type": "code",
   "execution_count": null,
   "metadata": {},
   "outputs": [],
   "source": [
    "matrix = tf.constant([\n",
    "    [0, 0, 1, 7],\n",
    "    [0, 2, 0, 0],\n",
    "    [5, 2, 0, 0],\n",
    "    [0, 0, 9, 8],\n",
    "])\n",
    "reshaped = tf.reshape(matrix, (1, 4, 4, 1))\n",
    "print('input',reshaped.shape,tf.rank(reshaped).numpy())\n",
    "tf.nn.max_pool(reshaped, ksize=2, strides=2, padding=\"SAME\").shape\n",
    "\n",
    "\n"
   ]
  },
  {
   "cell_type": "code",
   "execution_count": null,
   "metadata": {},
   "outputs": [],
   "source": [
    "input_tensor = tf.constant([[\n",
    "    [[1.0], [2.0], [3.0], [4.0]],\n",
    "    [[5.0], [6.0], [7.0], [8.0]],\n",
    "    [[9.0], [10.0], [11.0], [12.0]],\n",
    "    [[13.0], [14.0], [15.0], [16.0]]\n",
    "]], dtype=tf.float32)\n",
    "input_tensor=tf.reshape(input_tensor,(1,2,2,4,1))\n",
    "print('input_tensor',input_tensor.shape)\n",
    "# ksize: The size of the window for each dimension of the input tensor.\n",
    "# Here, we use a 2x2 window\n",
    "ksize =3\n",
    "\n",
    "# strides: The stride of the sliding window for each dimension of the input tensor.\n",
    "# Here, we move the window 2 steps for height and width\n",
    "strides =3\n",
    "\n",
    "# padding: Type of padding algorithm to use (\"SAME\" or \"VALID\")\n",
    "padding = \"VALID\"\n",
    "\n",
    "# data_format: Specifies the channel dimension (\"NHWC\" or \"NCHW\")\n",
    "data_format = \"NDHWC\"\n",
    "# Perform max pooling using tf.nn.max_pool\n",
    "output_tensor = tf.nn.max_pool(\n",
    "    input=input_tensor,\n",
    "    ksize=ksize,\n",
    "    strides=strides,\n",
    "    padding=padding,\n",
    "    data_format=data_format\n",
    ")\n",
    "\n",
    "# Print the output tensor\n",
    "print(output_tensor.numpy())"
   ]
  },
  {
   "cell_type": "markdown",
   "metadata": {},
   "source": [
    "## tf.nn.softmax"
   ]
  },
  {
   "cell_type": "code",
   "execution_count": null,
   "metadata": {},
   "outputs": [],
   "source": []
  },
  {
   "cell_type": "code",
   "execution_count": null,
   "metadata": {},
   "outputs": [],
   "source": [
    "softmax = tf.nn.softmax([-1, 0., 1.])\n",
    "softmax"
   ]
  },
  {
   "cell_type": "markdown",
   "metadata": {},
   "source": [
    "## "
   ]
  },
  {
   "cell_type": "code",
   "execution_count": null,
   "metadata": {},
   "outputs": [],
   "source": [
    "\n",
    "# Create a random 4D tensor of shape [batch_size, height, width, channels]\n",
    "# Here, batch_size = 1, height = 4, width = 4, channels = 1\n",
    "input_tensor = tf.constant([\n",
    "    [\n",
    "        [[1.0], [2.0], [3.0], [4.0]],\n",
    "        [[5.0], [6.0], [7.0], [8.0]],\n",
    "        [[9.0], [10.0], [11.0], [12.0]],\n",
    "        [[13.0], [14.0], [15.0], [16.0]]\n",
    "    ]\n",
    "], dtype=tf.float32)\n",
    "\n",
    "# Define the window_shape, pooling_type, and other parameters\n",
    "window_shape = [2, 2]  # Pooling window size\n",
    "pooling_type = \"MAX\"  # Pooling type can be \"AVG\" or \"MAX\"\n",
    "\n",
    "strides = [2, 2]  # Strides for the pooling operation\n",
    "padding = \"VALID\"  # Padding can be \"SAME\" or \"VALID\"\n",
    "# padding = tf.Variable(\"VAILD\",dtype=tf.string)\n",
    "data_format = \"NHWC\"  # Data format can be \"NHWC\" or \"NCHW\"\n",
    "dilations = [1, 1]  # Dilation rate\n",
    "\n",
    "# Apply the pooling operation\n",
    "output_tensor = tf.nn.pool(\n",
    "    input=input_tensor,\n",
    "    window_shape=window_shape,\n",
    "    pooling_type=pooling_type,\n",
    "    strides=strides,\n",
    "    padding=padding,\n",
    "    data_format=data_format,\n",
    "    dilations=dilations,\n",
    "    name=\"my_pooling_op\"\n",
    ")\n",
    "\n",
    "print(\"Input tensor:\")\n",
    "print(input_tensor.numpy())\n",
    "print(\"\\nOutput tensor:\")\n",
    "print(output_tensor.numpy())\n"
   ]
  }
 ],
 "metadata": {
  "kernelspec": {
   "display_name": "base",
   "language": "python",
   "name": "python3"
  },
  "language_info": {
   "codemirror_mode": {
    "name": "ipython",
    "version": 3
   },
   "file_extension": ".py",
   "mimetype": "text/x-python",
   "name": "python",
   "nbconvert_exporter": "python",
   "pygments_lexer": "ipython3",
   "version": "3.10.9"
  },
  "orig_nbformat": 4
 },
 "nbformat": 4,
 "nbformat_minor": 2
}
